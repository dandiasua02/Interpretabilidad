{
 "cells": [
  {
   "cell_type": "markdown",
   "id": "fd1cc834",
   "metadata": {},
   "source": [
    "<h1>Proyecto sobre interpretabilidad sobre modelos de caja negra</h1>"
   ]
  },
  {
   "cell_type": "markdown",
   "id": "a43eb70d",
   "metadata": {},
   "source": [
    "<p>En este proyecto nos dedicaremos a realizar el entrenamiento para los modelos de interpretabilidad de modelos de caja negra,en nuestro proyecto hemos realizado hacer el entrenamiento de modelos para tareas de clasifiacacion. Adelante en esta practica primero realizaremos el entrenamiento de los diferentes modelos de caja negra primero realizaremos el entrenamiento a un modelo de redes neuronales.</p>\n",
    "<u><b>A continuacion el siguiente bloque de codigo es necesario ejecutarlo para el correcto funcionamiento de este notebook.</b></u>"
   ]
  },
  {
   "cell_type": "code",
   "execution_count": 146,
   "id": "6fb58403",
   "metadata": {},
   "outputs": [],
   "source": [
    "import os\n",
    "os.environ['TF_CPP_MIN_LOG_LEVEL'] = '2'\n",
    "\n",
    "from tensorflow import get_logger\n",
    "get_logger().setLevel('ERROR')\n",
    "import random\n",
    "from tensorflow import random as tensorflow_random\n",
    "\n",
    "random.seed(2398572)\n",
    "tensorflow_random.set_seed(394867)\n",
    "import numpy\n",
    "import pandas\n",
    "from sklearn import model_selection\n",
    "\n",
    "numpy.random.seed(43958734)\n",
    "numpy.set_printoptions(threshold=10)\n",
    "from tensorflow import keras"
   ]
  },
  {
   "cell_type": "markdown",
   "id": "4a9d1334",
   "metadata": {},
   "source": [
    "<p>Ahora vamos a seleccionar el csv que contiene los datos y seleccionaremos los atributos que tendremos en cuenta para hacer el entrenamiento del algoritmo</p>"
   ]
  },
  {
   "cell_type": "code",
   "execution_count": 147,
   "id": "d20fa650",
   "metadata": {},
   "outputs": [
    {
     "data": {
      "text/html": [
       "<div>\n",
       "<style scoped>\n",
       "    .dataframe tbody tr th:only-of-type {\n",
       "        vertical-align: middle;\n",
       "    }\n",
       "\n",
       "    .dataframe tbody tr th {\n",
       "        vertical-align: top;\n",
       "    }\n",
       "\n",
       "    .dataframe thead th {\n",
       "        text-align: right;\n",
       "    }\n",
       "</style>\n",
       "<table border=\"1\" class=\"dataframe\">\n",
       "  <thead>\n",
       "    <tr style=\"text-align: right;\">\n",
       "      <th></th>\n",
       "      <th>Record_ID</th>\n",
       "      <th>Auction_ID</th>\n",
       "      <th>Bidder_ID</th>\n",
       "      <th>Bidder_Tendency</th>\n",
       "      <th>Bidding_Ratio</th>\n",
       "      <th>Successive_Outbidding</th>\n",
       "      <th>Last_Bidding</th>\n",
       "      <th>Auction_Bids</th>\n",
       "      <th>Starting_Price_Average</th>\n",
       "      <th>Early_Bidding</th>\n",
       "      <th>Winning_Ratio</th>\n",
       "      <th>Auction_Duration</th>\n",
       "      <th>Class</th>\n",
       "    </tr>\n",
       "  </thead>\n",
       "  <tbody>\n",
       "    <tr>\n",
       "      <th>0</th>\n",
       "      <td>1</td>\n",
       "      <td>732</td>\n",
       "      <td>_***i</td>\n",
       "      <td>0.200000</td>\n",
       "      <td>0.400000</td>\n",
       "      <td>0.0</td>\n",
       "      <td>0.000028</td>\n",
       "      <td>0.0</td>\n",
       "      <td>0.993593</td>\n",
       "      <td>0.000028</td>\n",
       "      <td>0.666667</td>\n",
       "      <td>5</td>\n",
       "      <td>0</td>\n",
       "    </tr>\n",
       "    <tr>\n",
       "      <th>1</th>\n",
       "      <td>2</td>\n",
       "      <td>732</td>\n",
       "      <td>g***r</td>\n",
       "      <td>0.024390</td>\n",
       "      <td>0.200000</td>\n",
       "      <td>0.0</td>\n",
       "      <td>0.013123</td>\n",
       "      <td>0.0</td>\n",
       "      <td>0.993593</td>\n",
       "      <td>0.013123</td>\n",
       "      <td>0.944444</td>\n",
       "      <td>5</td>\n",
       "      <td>0</td>\n",
       "    </tr>\n",
       "    <tr>\n",
       "      <th>2</th>\n",
       "      <td>3</td>\n",
       "      <td>732</td>\n",
       "      <td>t***p</td>\n",
       "      <td>0.142857</td>\n",
       "      <td>0.200000</td>\n",
       "      <td>0.0</td>\n",
       "      <td>0.003042</td>\n",
       "      <td>0.0</td>\n",
       "      <td>0.993593</td>\n",
       "      <td>0.003042</td>\n",
       "      <td>1.000000</td>\n",
       "      <td>5</td>\n",
       "      <td>0</td>\n",
       "    </tr>\n",
       "    <tr>\n",
       "      <th>3</th>\n",
       "      <td>4</td>\n",
       "      <td>732</td>\n",
       "      <td>7***n</td>\n",
       "      <td>0.100000</td>\n",
       "      <td>0.200000</td>\n",
       "      <td>0.0</td>\n",
       "      <td>0.097477</td>\n",
       "      <td>0.0</td>\n",
       "      <td>0.993593</td>\n",
       "      <td>0.097477</td>\n",
       "      <td>1.000000</td>\n",
       "      <td>5</td>\n",
       "      <td>0</td>\n",
       "    </tr>\n",
       "    <tr>\n",
       "      <th>4</th>\n",
       "      <td>5</td>\n",
       "      <td>900</td>\n",
       "      <td>z***z</td>\n",
       "      <td>0.051282</td>\n",
       "      <td>0.222222</td>\n",
       "      <td>0.0</td>\n",
       "      <td>0.001318</td>\n",
       "      <td>0.0</td>\n",
       "      <td>0.000000</td>\n",
       "      <td>0.001242</td>\n",
       "      <td>0.500000</td>\n",
       "      <td>7</td>\n",
       "      <td>0</td>\n",
       "    </tr>\n",
       "  </tbody>\n",
       "</table>\n",
       "</div>"
      ],
      "text/plain": [
       "   Record_ID  Auction_ID Bidder_ID  Bidder_Tendency  Bidding_Ratio  \\\n",
       "0          1         732     _***i         0.200000       0.400000   \n",
       "1          2         732     g***r         0.024390       0.200000   \n",
       "2          3         732     t***p         0.142857       0.200000   \n",
       "3          4         732     7***n         0.100000       0.200000   \n",
       "4          5         900     z***z         0.051282       0.222222   \n",
       "\n",
       "   Successive_Outbidding  Last_Bidding  Auction_Bids  Starting_Price_Average  \\\n",
       "0                    0.0      0.000028           0.0                0.993593   \n",
       "1                    0.0      0.013123           0.0                0.993593   \n",
       "2                    0.0      0.003042           0.0                0.993593   \n",
       "3                    0.0      0.097477           0.0                0.993593   \n",
       "4                    0.0      0.001318           0.0                0.000000   \n",
       "\n",
       "   Early_Bidding  Winning_Ratio  Auction_Duration  Class  \n",
       "0       0.000028       0.666667                 5      0  \n",
       "1       0.013123       0.944444                 5      0  \n",
       "2       0.003042       1.000000                 5      0  \n",
       "3       0.097477       1.000000                 5      0  \n",
       "4       0.001242       0.500000                 7      0  "
      ]
     },
     "execution_count": 147,
     "metadata": {},
     "output_type": "execute_result"
    }
   ],
   "source": [
    "shill_bidding = pandas.read_csv(\"Shill Bidding Dataset.csv\")\n",
    "shill_bidding.head()"
   ]
  },
  {
   "cell_type": "markdown",
   "id": "d411b193",
   "metadata": {},
   "source": [
    "Seleccionamos los atributos a tener encuenta a la hora de entrenar"
   ]
  },
  {
   "cell_type": "code",
   "execution_count": 148,
   "id": "e9178f58",
   "metadata": {},
   "outputs": [
    {
     "name": "stdout",
     "output_type": "stream",
     "text": [
      "[[2.00000000e-01 4.00000000e-01 0.00000000e+00 ... 2.77778000e-05\n",
      "  6.66666667e-01 5.00000000e+00]\n",
      " [2.43902440e-02 2.00000000e-01 0.00000000e+00 ... 1.31226852e-02\n",
      "  9.44444444e-01 5.00000000e+00]\n",
      " [1.42857143e-01 2.00000000e-01 0.00000000e+00 ... 3.04166670e-03\n",
      "  1.00000000e+00 5.00000000e+00]\n",
      " ...\n",
      " [5.55555560e-02 4.34782610e-02 0.00000000e+00 ... 1.56630291e-02\n",
      "  0.00000000e+00 7.00000000e+00]\n",
      " [7.69230770e-02 8.69565220e-02 0.00000000e+00 ... 4.15013200e-04\n",
      "  0.00000000e+00 7.00000000e+00]\n",
      " [1.63934430e-02 4.34782610e-02 0.00000000e+00 ... 3.40350529e-01\n",
      "  0.00000000e+00 7.00000000e+00]]\n"
     ]
    }
   ],
   "source": [
    "atributos = shill_bidding.loc[:,'Bidder_Tendency':'Auction_Duration']\n",
    "atributos = atributos.to_numpy()\n",
    "print(atributos)"
   ]
  },
  {
   "cell_type": "markdown",
   "id": "e2d340d5",
   "metadata": {},
   "source": [
    "<p>Vamos a seleccionar el atributo objetivo para el algoritmo</p>"
   ]
  },
  {
   "cell_type": "code",
   "execution_count": 160,
   "id": "a3a025f9",
   "metadata": {},
   "outputs": [
    {
     "name": "stdout",
     "output_type": "stream",
     "text": [
      "[0 0 0 ... 0 0 0]\n"
     ]
    }
   ],
   "source": [
    "objetivo = shill_bidding['Class']\n",
    "objetivo = objetivo.to_numpy()\n",
    "print(objetivo)"
   ]
  },
  {
   "cell_type": "markdown",
   "id": "9522fa6c",
   "metadata": {},
   "source": [
    "Entrenamos el modelo de redes neuronales y dividimos el modelo de entrenamiento con el modelo de pruebas"
   ]
  },
  {
   "cell_type": "code",
   "execution_count": 150,
   "id": "34611bc6",
   "metadata": {},
   "outputs": [],
   "source": [
    "(atributos_entrenamiento, atributos_prueba,\n",
    " objetivo_entrenamiento, objetivo_prueba) = model_selection.train_test_split(\n",
    "    atributos, objetivo, test_size=.33)"
   ]
  },
  {
   "cell_type": "markdown",
   "id": "f8825526",
   "metadata": {},
   "source": [
    "Input indica el nuemro de dimensiones y dense indica cantidad de neuronas y la funcion de activacion, que por defecto es la identidad. Esta muestra es para modelos de <b>regresion</b>"
   ]
  },
  {
   "cell_type": "code",
   "execution_count": 162,
   "id": "14461fda",
   "metadata": {},
   "outputs": [],
   "source": [
    "red_bidding = keras.Sequential()\n",
    "red_bidding.add(keras.Input(shape=(8,)))\n",
    "red_bidding.add(keras.layers.Dense(1))"
   ]
  },
  {
   "cell_type": "markdown",
   "id": "1c0e1ce2",
   "metadata": {},
   "source": [
    "El metodo summary nos muestra la estructura de la red, indicando para cada capa la forma de su salida y cuantos parametros posee (La primera dimension de la capa de salida muestra el tamaño de minilotes que si su valor es None significa que se determinara posteriormente)"
   ]
  },
  {
   "cell_type": "code",
   "execution_count": 152,
   "id": "36c314d4",
   "metadata": {},
   "outputs": [
    {
     "name": "stdout",
     "output_type": "stream",
     "text": [
      "Model: \"sequential_13\"\n",
      "_________________________________________________________________\n",
      " Layer (type)                Output Shape              Param #   \n",
      "=================================================================\n",
      " dense_18 (Dense)            (None, 1)                 9         \n",
      "                                                                 \n",
      "=================================================================\n",
      "Total params: 9\n",
      "Trainable params: 9\n",
      "Non-trainable params: 0\n",
      "_________________________________________________________________\n"
     ]
    }
   ],
   "source": [
    "red_bidding.summary()"
   ]
  },
  {
   "cell_type": "markdown",
   "id": "2f2b7fc0",
   "metadata": {},
   "source": [
    "La red neuronal posee una única capa (aparte de la de entrada) que proporciona como salida un array bidimensional None x 1 (es decir, para cada ejemplo proporciona un valor) y 9 parámetros (el peso de la conexión de cada entrada con la neurona de la capa más el sesgo de la neurona) entrenables (la red los aprenderá mediante el algoritmo de entrenamiento)."
   ]
  },
  {
   "cell_type": "markdown",
   "id": "4a6d44f7",
   "metadata": {},
   "source": [
    "Los pesos y sesgos de la red se guardan en el atributo weights (son los arrays asociados al argumento numpy en la estructura de datos guardada en ese atributo)."
   ]
  },
  {
   "cell_type": "code",
   "execution_count": 153,
   "id": "d33a0132",
   "metadata": {},
   "outputs": [
    {
     "data": {
      "text/plain": [
       "[<tf.Variable 'dense_18/kernel:0' shape=(8, 1) dtype=float32, numpy=\n",
       " array([[ 0.23344779],\n",
       "        [-0.2662468 ],\n",
       "        [-0.51408654],\n",
       "        [ 0.2860216 ],\n",
       "        [ 0.19619906],\n",
       "        [-0.7196273 ],\n",
       "        [-0.4221846 ],\n",
       "        [ 0.49525082]], dtype=float32)>,\n",
       " <tf.Variable 'dense_18/bias:0' shape=(1,) dtype=float32, numpy=array([0.], dtype=float32)>]"
      ]
     },
     "execution_count": 153,
     "metadata": {},
     "output_type": "execute_result"
    }
   ],
   "source": [
    "red_bidding.weights"
   ]
  },
  {
   "cell_type": "markdown",
   "id": "41990fd2",
   "metadata": {},
   "source": [
    " Primero en iloc significa cantidad de filas y despues seleccionamos las columnas, aqui le pedimos que prediga los valores de las 5 primeras muestras del csv"
   ]
  },
  {
   "cell_type": "code",
   "execution_count": 164,
   "id": "abf374e2",
   "metadata": {},
   "outputs": [
    {
     "name": "stdout",
     "output_type": "stream",
     "text": [
      "1/1 [==============================] - 0s 41ms/step\n"
     ]
    },
    {
     "data": {
      "text/plain": [
       "array([[-0.6872137],\n",
       "       [-0.7947999],\n",
       "       [-0.8690343],\n",
       "       [-0.8644623],\n",
       "       [-0.2504291]], dtype=float32)"
      ]
     },
     "execution_count": 164,
     "metadata": {},
     "output_type": "execute_result"
    }
   ],
   "source": [
    "\n",
    "red_bidding.predict(bluetooth_beacon.iloc[0:5, 3:11].to_numpy())"
   ]
  },
  {
   "cell_type": "markdown",
   "id": "c7c756ab",
   "metadata": {},
   "source": [
    "Input indica el nuemro de dimensiones y dense indica cantidad de neuronas y la funcion de activacion, que por defecto es la identidad. Este ejemplo es para modelos de <b>clasificacion</b> "
   ]
  },
  {
   "cell_type": "code",
   "execution_count": 155,
   "id": "252f2b00",
   "metadata": {},
   "outputs": [],
   "source": [
    "red_bidding = keras.Sequential()\n",
    "red_bidding.add(keras.Input(shape=(9,)))\n",
    "red_bidding.add(keras.layers.Dense(10, activation='relu'))\n",
    "red_bidding.add(keras.layers.Dense(1, activation='sigmoid'))"
   ]
  },
  {
   "cell_type": "code",
   "execution_count": null,
   "id": "c667980c",
   "metadata": {},
   "outputs": [],
   "source": []
  },
  {
   "cell_type": "code",
   "execution_count": 156,
   "id": "a9cc99e0",
   "metadata": {},
   "outputs": [
    {
     "name": "stdout",
     "output_type": "stream",
     "text": [
      "Model: \"sequential_14\"\n",
      "_________________________________________________________________\n",
      " Layer (type)                Output Shape              Param #   \n",
      "=================================================================\n",
      " dense_19 (Dense)            (None, 10)                100       \n",
      "                                                                 \n",
      " dense_20 (Dense)            (None, 1)                 11        \n",
      "                                                                 \n",
      "=================================================================\n",
      "Total params: 111\n",
      "Trainable params: 111\n",
      "Non-trainable params: 0\n",
      "_________________________________________________________________\n"
     ]
    }
   ],
   "source": [
    "red_bidding.summary()"
   ]
  },
  {
   "cell_type": "markdown",
   "id": "31aad118",
   "metadata": {},
   "source": [
    "Entrenamos la red neuronal con un optimizador y una funcion de perdida, en este caso al tratarse de un modelo de clasifiacion seleccionamos la funcion de perdida como la entropia cruzada binaria"
   ]
  },
  {
   "cell_type": "code",
   "execution_count": 157,
   "id": "011b2103",
   "metadata": {},
   "outputs": [],
   "source": [
    "red_bidding.compile(optimizer='SGD', loss='binary_crossentropy',\n",
    "                   metrics=['accuracy'])"
   ]
  },
  {
   "cell_type": "markdown",
   "id": "08890c73",
   "metadata": {},
   "source": [
    "Aqui ponemos a prueba el modelo y le pedimos que clasifique el conjunto de prueba entrenado con el conjunto de entrenamiento"
   ]
  },
  {
   "cell_type": "code",
   "execution_count": 158,
   "id": "424e4938",
   "metadata": {},
   "outputs": [
    {
     "name": "stdout",
     "output_type": "stream",
     "text": [
      "Epoch 1/10\n",
      "424/424 [==============================] - 1s 1ms/step - loss: 0.3894 - accuracy: 0.8959\n",
      "Epoch 2/10\n",
      "424/424 [==============================] - 1s 1ms/step - loss: 0.3099 - accuracy: 0.8970\n",
      "Epoch 3/10\n",
      "424/424 [==============================] - 1s 1ms/step - loss: 0.2346 - accuracy: 0.9138\n",
      "Epoch 4/10\n",
      "424/424 [==============================] - 1s 1ms/step - loss: 0.1740 - accuracy: 0.9481\n",
      "Epoch 5/10\n",
      "424/424 [==============================] - 1s 1ms/step - loss: 0.1328 - accuracy: 0.9606\n",
      "Epoch 6/10\n",
      "424/424 [==============================] - 1s 2ms/step - loss: 0.1080 - accuracy: 0.9596\n",
      "Epoch 7/10\n",
      "424/424 [==============================] - 1s 2ms/step - loss: 0.0933 - accuracy: 0.9596\n",
      "Epoch 8/10\n",
      "424/424 [==============================] - 1s 1ms/step - loss: 0.0843 - accuracy: 0.9610\n",
      "Epoch 9/10\n",
      "424/424 [==============================] - 1s 1ms/step - loss: 0.0771 - accuracy: 0.9620\n",
      "Epoch 10/10\n",
      "424/424 [==============================] - 1s 1ms/step - loss: 0.0718 - accuracy: 0.9625\n"
     ]
    },
    {
     "data": {
      "text/plain": [
       "<keras.callbacks.History at 0x129d6a891b0>"
      ]
     },
     "execution_count": 158,
     "metadata": {},
     "output_type": "execute_result"
    }
   ],
   "source": [
    "red_bidding.fit(atributos_entrenamiento, objetivo_entrenamiento,\n",
    "               batch_size=10, epochs=10)"
   ]
  },
  {
   "cell_type": "markdown",
   "id": "ae171db8",
   "metadata": {},
   "source": [
    "Nos devuelve el resultado del conjunto de prueba"
   ]
  },
  {
   "cell_type": "code",
   "execution_count": 159,
   "id": "4dc8923e",
   "metadata": {},
   "outputs": [
    {
     "name": "stdout",
     "output_type": "stream",
     "text": [
      "66/66 [==============================] - 0s 1ms/step - loss: 0.0687 - accuracy: 0.9660\n"
     ]
    },
    {
     "data": {
      "text/plain": [
       "[0.06873727589845657, 0.9659635424613953]"
      ]
     },
     "execution_count": 159,
     "metadata": {},
     "output_type": "execute_result"
    }
   ],
   "source": [
    "red_bidding.evaluate(atributos_prueba, objetivo_prueba)"
   ]
  },
  {
   "cell_type": "markdown",
   "id": "e7c45d0f",
   "metadata": {},
   "source": [
    "# El siguiente modelo a realizar es random forest (ChatGPT dice que es el mas sencillo)"
   ]
  },
  {
   "cell_type": "markdown",
   "id": "8656abee",
   "metadata": {},
   "source": [
    "Este es el modelo LIME de predictividad de modelos de caja negra"
   ]
  },
  {
   "cell_type": "code",
   "execution_count": null,
   "id": "c99bd7ed",
   "metadata": {},
   "outputs": [],
   "source": [
    "def explain_model(f, X, N):\n",
    "    X_perturbed = []\n",
    "    representations = []\n",
    "    distances = []\n",
    "    \n",
    "    # Realizar N perturbaciones\n",
    "    for i in range(N):\n",
    "        # Seleccionar aleatoriamente k atributos\n",
    "        k = random.randint(1, len(X[0]))\n",
    "        indices = random.sample(range(len(X[0])), k)\n",
    "        \n",
    "        # Perturbar k atributos\n",
    "        X_perturbed_i = np.copy(X[i])\n",
    "        for j in indices:\n",
    "            X_perturbed_i[j] = random.uniform(min(X[:,j]), max(X[:,j]))\n",
    "            \n",
    "        # Calcular distancia y representación\n",
    "        distance = np.linalg.norm(X[i] - X_perturbed_i)\n",
    "        representation = f(X_perturbed_i.reshape(1, -1))[0]\n",
    "        \n",
    "        # Añadir a las listas\n",
    "        X_perturbed.append(X_perturbed_i)\n",
    "        representations.append(representation)\n",
    "        distances.append(distance)\n",
    "    \n",
    "    # Obtener predicciones de las perturbaciones\n",
    "    y_perturbed = f(X_perturbed)\n",
    "    \n",
    "    # Entrenar modelo ridge y devolver parámetros\n",
    "    ridge = Ridge()\n",
    "    ridge.fit(np.array(representations), y_perturbed, sample_weight=distances)\n",
    "    return ridge.coef_, ridge.intercept_"
   ]
  }
 ],
 "metadata": {
  "kernelspec": {
   "display_name": "Python 3 (ipykernel)",
   "language": "python",
   "name": "python3"
  },
  "language_info": {
   "codemirror_mode": {
    "name": "ipython",
    "version": 3
   },
   "file_extension": ".py",
   "mimetype": "text/x-python",
   "name": "python",
   "nbconvert_exporter": "python",
   "pygments_lexer": "ipython3",
   "version": "3.10.9"
  }
 },
 "nbformat": 4,
 "nbformat_minor": 5
}
